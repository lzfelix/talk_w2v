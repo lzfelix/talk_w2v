{
 "cells": [
  {
   "cell_type": "code",
   "execution_count": 5,
   "metadata": {},
   "outputs": [],
   "source": [
    "# Don't worry, this code takes some time to load the model\n",
    "from gensim.models import KeyedVectors\n",
    "\n",
    "w2v_txt_filename = 'w2vec_s100.txt'\n",
    "model = KeyedVectors.load_word2vec_format(w2v_txt_filename, unicode_errors=\"ignore\")\n",
    "\n",
    "# we don't want to train the model anymore, so we can keep just its wv part and delete the rest to save memory.\n",
    "word2vec = model.wv\n",
    "del model"
   ]
  },
  {
   "cell_type": "code",
   "execution_count": 6,
   "metadata": {},
   "outputs": [
    {
     "name": "stdout",
     "output_type": "stream",
     "text": [
      "Palavras similares com Alemanha:\n",
      "bélgica, frança, itália, finlândia, dinamarca, holanda, áustria, grã-bretanha, hungria, suiça\n",
      "\n",
      "\n",
      "Combustíveis:\n",
      "diesel, hidratado, combustível, gasóleo, álcool, biocombustível, anidro, querosene, glp, gnv\n",
      "\n",
      "\n",
      "Algo similar à analogia \"king - man...\" com \"monarquia - rei\"\":\n",
      "democracia, social-democracia, liberal-democrática, institucionalidade, constituição\n"
     ]
    }
   ],
   "source": [
    "def similar_words_to_string(related_words):\n",
    "    return ', '.join(pair[0] for pair in related)\n",
    "\n",
    "# Finding words similar one to another, you can't do this with simple BoW:\n",
    "related = word2vec.similar_by_word('alemanha')\n",
    "print('Palavras similares com Alemanha:\\n{}'.format(similar_words_to_string(related)))\n",
    "\n",
    "related = word2vec.most_similar(positive=['gasolina', 'etanol'])\n",
    "print('\\n\\nCombustíveis:\\n{}'.format(similar_words_to_string(related)))\n",
    "\n",
    "related = word2vec.most_similar(positive=['monarquia'], negative=['rei'], topn=5)\n",
    "print('\\n\\nAlgo similar à analogia \"king - man...\" com \"monarquia - rei\"\":\\n{}'.format(similar_words_to_string(related)))"
   ]
  },
  {
   "cell_type": "code",
   "execution_count": 7,
   "metadata": {},
   "outputs": [
    {
     "name": "stdout",
     "output_type": "stream",
     "text": [
      "Entre ['etanol', 'diesel', 'água', 'gasolina'], \"água\" é anomalia.\n",
      "Entre ['brasil', 'russia', 'india', 'china', 'coreia'], \"brasil\" é anomalia.\n",
      "Entre ['carvão', 'petróleo', 'peixe', 'gás'], \"peixe\" é anomalia.\n"
     ]
    }
   ],
   "source": [
    "# finding odd word\n",
    "\n",
    "def demo_odd(words):\n",
    "    odd = word2vec.doesnt_match(words.split())\n",
    "    print('Entre {}, \"{}\" é anomalia.'.format(words.split(), odd))\n",
    "\n",
    "demo_odd('etanol diesel água gasolina')\n",
    "demo_odd('brasil russia india china coreia')\n",
    "demo_odd('carvão petróleo peixe gás')"
   ]
  },
  {
   "cell_type": "code",
   "execution_count": 25,
   "metadata": {
    "collapsed": true
   },
   "outputs": [],
   "source": [
    "# getting data in the proper format to train a classifier\n",
    "from functools import reduce\n",
    "\n",
    "import numpy as np\n",
    "from sklearn.model_selection import train_test_split\n",
    "from sklearn.preprocessing import LabelEncoder\n",
    "\n",
    "def get_phrase_wv(phrase):\n",
    "    words = phrase.split()\n",
    "    vectors = [word2vec[word] for word in words if word in word2vec]\n",
    "    phrase_vector = reduce(lambda x,y: x+y, vectors) * 1.0/len(vectors)\n",
    "    return phrase_vector\n",
    "\n",
    "def get_train_test_data():\n",
    "    X = []\n",
    "    y = []\n",
    "    with open('dataset.csv', 'r') as file:\n",
    "        for line in file:\n",
    "            text, label = line.strip().split(',')\n",
    "            vector = get_phrase_wv(text)\n",
    "            X.append(vector)\n",
    "            y.append(label)\n",
    "    \n",
    "    encoder = LabelEncoder().fit(y)\n",
    "    y = encoder.transform(y)\n",
    "    \n",
    "    X_train, X_test, y_train, y_test = train_test_split(np.array(X), np.array(y), test_size=0.1)\n",
    "    return X_train, X_test, y_train, y_test, encoder\n",
    "\n",
    "X_train, X_test, y_train, y_test, encoder = get_train_test_data()"
   ]
  },
  {
   "cell_type": "code",
   "execution_count": 26,
   "metadata": {},
   "outputs": [
    {
     "data": {
      "text/plain": [
       "0.80000000000000004"
      ]
     },
     "execution_count": 26,
     "metadata": {},
     "output_type": "execute_result"
    }
   ],
   "source": [
    "from sklearn.svm import SVC\n",
    "\n",
    "clf = SVC(probability=True, class_weight='balanced', kernel='linear')\n",
    "clf.fit(X_train, y_train)\n",
    "clf.score(X_test, y_test)"
   ]
  },
  {
   "cell_type": "code",
   "execution_count": null,
   "metadata": {},
   "outputs": [
    {
     "name": "stdout",
     "output_type": "stream",
     "text": [
      "> hey robô\n",
      "[ROBÔ] Beep, bop, olá, como posso ajudar?\n",
      "> será que vai esfriar hoje?\n",
      "[ROBÔ] Beep, bop, a previsão do tempo é de dia ensolarado até sexta.\n",
      "> ok! vou ter dinheiro pra sair?\n",
      "[ROBÔ] Beep, bop, seu saldo atual é de R$120.00, você tem R$ 150.00 na poupança.\n"
     ]
    }
   ],
   "source": [
    "try:\n",
    "    while True:\n",
    "        msg = input('> ')\n",
    "            \n",
    "        label = encoder.inverse_transform(clf.predict([get_phrase_wv(msg)]))\n",
    "        if label == 'clima':\n",
    "            response = 'a previsão do tempo é de dia ensolarado até sexta.'\n",
    "        elif label == 'saldo':\n",
    "            response = 'seu saldo atual é de R$120.00, você tem R$ 150.00 na poupança.'\n",
    "        elif label == 'noticias':\n",
    "            response = 'Capes anuncia a reabertura do programa para doutorado-sanduíche =D'\n",
    "        elif label == 'saudacao':\n",
    "            response = 'olá, como posso ajudar?'\n",
    "        elif label == 'despedida':\n",
    "            response = 'até a próxima!'\n",
    "            \n",
    "        print('[ROBÔ] Beep, bop, %s' % response)\n",
    "        if label == 'despedida':\n",
    "            break\n",
    "        \n",
    "except KeyboardInterrupt:\n",
    "    pass #supressing abortion exception"
   ]
  },
  {
   "cell_type": "code",
   "execution_count": 1,
   "metadata": {},
   "outputs": [],
   "source": [
    "# Frases interessantes para perguntar:\n",
    "#     - vai nevar\n",
    "#     - está nublado\n",
    "#     - quais as manchetes\n",
    "#     - tenho como pagar as dívidas esse mês\n",
    "#     - devo levar um casaco\n",
    "\n",
    "# Note que nenhuma das palavras-chave (manchete, dívidas, nublado, nevar) não estão no conjunto de dados.\n",
    "# (Note que não há tratamento para caracteres especias, por isso estes não são usados.)"
   ]
  }
 ],
 "metadata": {
  "anaconda-cloud": {},
  "kernelspec": {
   "display_name": "Python [conda env:bots3]",
   "language": "python",
   "name": "conda-env-bots3-py"
  },
  "language_info": {
   "codemirror_mode": {
    "name": "ipython",
    "version": 3
   },
   "file_extension": ".py",
   "mimetype": "text/x-python",
   "name": "python",
   "nbconvert_exporter": "python",
   "pygments_lexer": "ipython3",
   "version": "3.5.3"
  }
 },
 "nbformat": 4,
 "nbformat_minor": 2
}

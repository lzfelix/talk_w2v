{
 "cells": [
  {
   "cell_type": "code",
   "execution_count": 3,
   "metadata": {},
   "outputs": [],
   "source": [
    "from gensim.models import KeyedVectors\n",
    "\n",
    "w2v_txt_filename = 'w2vec_s100.txt'\n",
    "model = KeyedVectors.load_word2vec_format(w2v_txt_filename, unicode_errors=\"ignore\")\n",
    "\n",
    "# we don't want to train the model anymore, so we can keep just its wv part and delete the rest to save memory.\n",
    "word2vec = model.wv\n",
    "del model"
   ]
  },
  {
   "cell_type": "code",
   "execution_count": 76,
   "metadata": {},
   "outputs": [
    {
     "name": "stdout",
     "output_type": "stream",
     "text": [
      "Palavras similares com Alemanha:\n",
      "bélgica, frança, itália, finlândia, dinamarca, holanda, áustria, grã-bretanha, hungria, suiça\n",
      "\n",
      "\n",
      "Combustíveis:\n",
      "diesel, hidratado, combustível, gasóleo, álcool, biocombustível, anidro, querosene, glp, gnv\n",
      "\n",
      "\n",
      "Algo similar à analogia \"monarquia-rei\":\n",
      "democracia, social-democracia, liberal-democrática, institucionalidade, constituição\n"
     ]
    }
   ],
   "source": [
    "def similar_words_to_string(related_words):\n",
    "    return ', '.join(pair[0] for pair in related)\n",
    "\n",
    "# Finding words similar one to another, you can't do this with simple BoW:\n",
    "related = word2vec.similar_by_word('alemanha')\n",
    "print('Palavras similares com Alemanha:\\n{}'.format(similar_words_to_string(related)))\n",
    "\n",
    "related = word2vec.most_similar(positive=['gasolina', 'etanol'])\n",
    "print('\\n\\nCombustíveis:\\n{}'.format(similar_words_to_string(related)))\n",
    "\n",
    "related = word2vec.most_similar(positive=['monarquia'], negative=['rei'], topn=5)\n",
    "print('\\n\\nAlgo similar à analogia \"monarquia-rei\":\\n{}'.format(similar_words_to_string(related)))"
   ]
  },
  {
   "cell_type": "code",
   "execution_count": 94,
   "metadata": {},
   "outputs": [
    {
     "name": "stdout",
     "output_type": "stream",
     "text": [
      "Entre ['etanol', 'diesel', 'água', 'gasolina'], \"água\" é anomalia.\n",
      "Entre ['brasil', 'russia', 'india', 'china', 'coreia'], \"brasil\" é anomalia.\n",
      "Entre ['carvão', 'petróleo', 'peixe', 'gás'], \"peixe\" é anomalia.\n"
     ]
    }
   ],
   "source": [
    "# finding odd word\n",
    "\n",
    "def demo_odd(words):\n",
    "    odd = word2vec.doesnt_match(words.split())\n",
    "    print('Entre {}, \"{}\" é anomalia.'.format(words.split(), odd))\n",
    "\n",
    "demo_odd('etanol diesel água gasolina')\n",
    "demo_odd('brasil russia india china coreia')\n",
    "demo_odd('carvão petróleo peixe gás')"
   ]
  },
  {
   "cell_type": "code",
   "execution_count": null,
   "metadata": {
    "collapsed": true
   },
   "outputs": [],
   "source": [
    "# classificador\n",
    "\n"
   ]
  }
 ],
 "metadata": {
  "anaconda-cloud": {},
  "kernelspec": {
   "display_name": "Python [conda env:bots3]",
   "language": "python",
   "name": "conda-env-bots3-py"
  },
  "language_info": {
   "codemirror_mode": {
    "name": "ipython",
    "version": 3
   },
   "file_extension": ".py",
   "mimetype": "text/x-python",
   "name": "python",
   "nbconvert_exporter": "python",
   "pygments_lexer": "ipython3",
   "version": "3.5.3"
  }
 },
 "nbformat": 4,
 "nbformat_minor": 2
}
